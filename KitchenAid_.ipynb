{
 "cells": [
  {
   "cell_type": "markdown",
   "metadata": {},
   "source": [
    "# Mini Project"
   ]
  },
  {
   "cell_type": "code",
   "execution_count": 1,
   "metadata": {
    "scrolled": true
   },
   "outputs": [
    {
     "name": "stdout",
     "output_type": "stream",
     "text": [
      "<twitter.api.Twitter object at 0x000002CC8885E6A0>\n"
     ]
    }
   ],
   "source": [
    "import twitter\n",
    "import json\n",
    "\n",
    "# XXX: Go to http://dev.twitter.com/apps/new to create an app and get values\n",
    "# for these credentials, which you'll need to provide in place of these\n",
    "# empty string values that are defined as placeholders.\n",
    "# See https://dev.twitter.com/docs/auth/oauth for more information \n",
    "# on Twitter's OAuth implementation.\n",
    "\n",
    "CONSUMER_KEY = \"xxxx\"\n",
    "CONSUMER_SECRET =\"xxxx\"\n",
    "OAUTH_TOKEN = \"xxxx\"\n",
    "OAUTH_TOKEN_SECRET = \"xxxx\"\n",
    "\n",
    "auth = twitter.oauth.OAuth(OAUTH_TOKEN, OAUTH_TOKEN_SECRET,\n",
    "                           CONSUMER_KEY, CONSUMER_SECRET)\n",
    "\n",
    "twitter_api = twitter.Twitter(auth=auth)\n",
    "\n",
    "# Nothing to see by displaying twitter_api except that it's now a\n",
    "# defined variable\n",
    "\n",
    "print (twitter_api)"
   ]
  },
  {
   "cell_type": "markdown",
   "metadata": {},
   "source": [
    "## Example 5. Collecting search results"
   ]
  },
  {
   "cell_type": "code",
   "execution_count": 10,
   "metadata": {
    "scrolled": true
   },
   "outputs": [
    {
     "name": "stdout",
     "output_type": "stream",
     "text": [
      "Length of statuses 100\n",
      "Length of statuses 200\n",
      "Length of statuses 300\n",
      "Length of statuses 400\n",
      "Length of statuses 403\n",
      "{\n",
      " \"created_at\": \"Fri Dec 20 06:28:45 +0000 2019\",\n",
      " \"id\": 1207910691421577216,\n",
      " \"id_str\": \"1207910691421577216\",\n",
      " \"text\": \"Enter To Win The KitchenAid 5qt Artisan Tilt-Head Stand Mixer Giveaway  @dealmaxxdeals #kitchenaid https://t.co/nKNUmqYuHX\",\n",
      " \"truncated\": false,\n",
      " \"entities\": {\n",
      "  \"hashtags\": [\n",
      "   {\n",
      "    \"text\": \"kitchenaid\",\n",
      "    \"indices\": [\n",
      "     87,\n",
      "     98\n",
      "    ]\n",
      "   }\n",
      "  ],\n",
      "  \"symbols\": [],\n",
      "  \"user_mentions\": [\n",
      "   {\n",
      "    \"screen_name\": \"dealmaxxdeals\",\n",
      "    \"name\": \"dealmaxxdeals\",\n",
      "    \"id\": 1087544330930266112,\n",
      "    \"id_str\": \"1087544330930266112\",\n",
      "    \"indices\": [\n",
      "     72,\n",
      "     86\n",
      "    ]\n",
      "   }\n",
      "  ],\n",
      "  \"urls\": [\n",
      "   {\n",
      "    \"url\": \"https://t.co/nKNUmqYuHX\",\n",
      "    \"expanded_url\": \"https://swee.ps/IQiHdKIHj\",\n",
      "    \"display_url\": \"swee.ps/IQiHdKIHj\",\n",
      "    \"indices\": [\n",
      "     99,\n",
      "     122\n",
      "    ]\n",
      "   }\n",
      "  ]\n",
      " },\n",
      " \"metadata\": {\n",
      "  \"iso_language_code\": \"en\",\n",
      "  \"result_type\": \"recent\"\n",
      " },\n",
      " \"source\": \"<a href=\\\"http://twitter.com\\\" rel=\\\"nofollow\\\">Twitter Web Client</a>\",\n",
      " \"in_reply_to_status_id\": null,\n",
      " \"in_reply_to_status_id_str\": null,\n",
      " \"in_reply_to_user_id\": null,\n",
      " \"in_reply_to_user_id_str\": null,\n",
      " \"in_reply_to_screen_name\": null,\n",
      " \"user\": {\n",
      "  \"id\": 102839807,\n",
      "  \"id_str\": \"102839807\",\n",
      "  \"name\": \"Jerry Lafferty\",\n",
      "  \"screen_name\": \"mrcapncaveman\",\n",
      "  \"location\": \"South Dakota, USA\",\n",
      "  \"description\": \"Computer Enthusiast, Enjoy all things tech related. Firm believer in knowledge is power. Love music and photography.\",\n",
      "  \"url\": null,\n",
      "  \"entities\": {\n",
      "   \"description\": {\n",
      "    \"urls\": []\n",
      "   }\n",
      "  },\n",
      "  \"protected\": false,\n",
      "  \"followers_count\": 1092,\n",
      "  \"friends_count\": 3895,\n",
      "  \"listed_count\": 90,\n",
      "  \"created_at\": \"Fri Jan 08 00:54:46 +0000 2010\",\n",
      "  \"favourites_count\": 3116,\n",
      "  \"utc_offset\": null,\n",
      "  \"time_zone\": null,\n",
      "  \"geo_enabled\": true,\n",
      "  \"verified\": false,\n",
      "  \"statuses_count\": 102956,\n",
      "  \"lang\": null,\n",
      "  \"contributors_enabled\": false,\n",
      "  \"is_translator\": false,\n",
      "  \"is_translation_enabled\": false,\n",
      "  \"profile_background_color\": \"B09675\",\n",
      "  \"profile_background_image_url\": \"http://abs.twimg.com/images/themes/theme15/bg.png\",\n",
      "  \"profile_background_image_url_https\": \"https://abs.twimg.com/images/themes/theme15/bg.png\",\n",
      "  \"profile_background_tile\": true,\n",
      "  \"profile_image_url\": \"http://pbs.twimg.com/profile_images/685484524470312960/6EWdKeu5_normal.jpg\",\n",
      "  \"profile_image_url_https\": \"https://pbs.twimg.com/profile_images/685484524470312960/6EWdKeu5_normal.jpg\",\n",
      "  \"profile_banner_url\": \"https://pbs.twimg.com/profile_banners/102839807/1417443254\",\n",
      "  \"profile_link_color\": \"6B563B\",\n",
      "  \"profile_sidebar_border_color\": \"000000\",\n",
      "  \"profile_sidebar_fill_color\": \"B09675\",\n",
      "  \"profile_text_color\": \"000000\",\n",
      "  \"profile_use_background_image\": true,\n",
      "  \"has_extended_profile\": false,\n",
      "  \"default_profile\": false,\n",
      "  \"default_profile_image\": false,\n",
      "  \"following\": false,\n",
      "  \"follow_request_sent\": false,\n",
      "  \"notifications\": false,\n",
      "  \"translator_type\": \"none\"\n",
      " },\n",
      " \"geo\": null,\n",
      " \"coordinates\": null,\n",
      " \"place\": null,\n",
      " \"contributors\": null,\n",
      " \"is_quote_status\": false,\n",
      " \"retweet_count\": 0,\n",
      " \"favorite_count\": 0,\n",
      " \"favorited\": false,\n",
      " \"retweeted\": false,\n",
      " \"possibly_sensitive\": false,\n",
      " \"lang\": \"en\"\n",
      "}\n"
     ]
    }
   ],
   "source": [
    "# Import unquote to prevent url encoding errors in next_results\n",
    "from urllib.parse import unquote\n",
    "\n",
    "# XXX: Set this variable to a trending topic, \n",
    "# or anything else for that matter. The example query below\n",
    "# was a trending topic when this content was being developed\n",
    "# and is used throughout the remainder of this chapter.\n",
    "#q = '#XXX'\n",
    "q = '#Kitchenaid + #KitchenAid + kitchenaid + KitchenAid'\n",
    "\n",
    "count = 100\n",
    "\n",
    "# See https://dev.twitter.com/docs/api/1.1/get/search/tweets\n",
    "\n",
    "search_results = twitter_api.search.tweets(q=q, count=count)\n",
    "\n",
    "statuses = search_results['statuses']\n",
    "\n",
    "\n",
    "# Iterate through 5 more batches of results by following the cursor\n",
    "\n",
    "for _ in range(5):\n",
    "    print (\"Length of statuses\", len(statuses))\n",
    "    try:\n",
    "        next_results = search_results['search_metadata']['next_results']\n",
    "    except KeyError as e: # No more results when next_results doesn't exist\n",
    "        break\n",
    "        \n",
    "    # Create a dictionary from next_results, which has the following form:\n",
    "    # ?max_id=313519052523986943&q=NCAA&include_entities=1\n",
    "    kwargs = dict([ kv.split('=') for kv in unquote(next_results[1:]).split(\"&\") ])\n",
    "    \n",
    "    search_results = twitter_api.search.tweets(**kwargs)\n",
    "    statuses += search_results['statuses']\n",
    "\n",
    "# Show one sample search result by slicing the list...\n",
    "#json.dumps(statuses[0], indent=1)\n",
    "\n",
    "print(json.dumps(statuses[0], indent=1))"
   ]
  },
  {
   "cell_type": "markdown",
   "metadata": {},
   "source": [
    "## Example 6. Extracting text, screen names, and hashtags from tweets"
   ]
  },
  {
   "cell_type": "code",
   "execution_count": 11,
   "metadata": {},
   "outputs": [
    {
     "name": "stdout",
     "output_type": "stream",
     "text": [
      "[\n",
      " \"Enter To Win The KitchenAid 5qt Artisan Tilt-Head Stand Mixer Giveaway  @dealmaxxdeals #kitchenaid https://t.co/nKNUmqYuHX\",\n",
      " \"Making Gma's cookies...shhhhh, it's a secret recipe! #baking #kitchenaid #vintage #cookies #christmascookies\\u2026 https://t.co/yCn8xlrlvy\",\n",
      " \"I have had this Kitchenaid mixer since 2012. And it's sounded like this since day one. I can only use during commer\\u2026 https://t.co/1dYBWs89xK\",\n",
      " \"Pourquoi vous allez craquer pour la Nespresso #Kitchenaid ! https://t.co/fEsvRrfzEs https://t.co/XKekjspf11\",\n",
      " \"RT @WordSpelunker: all year i've been saving a little each month for a #KitchenAid stand mixer &amp; now i'm only $100 away! it'll take me awhi\\u2026\"\n",
      "]\n",
      "[\n",
      " \"dealmaxxdeals\",\n",
      " \"WordSpelunker\",\n",
      " \"dealmaxxdeals\",\n",
      " \"Markybhoy9\",\n",
      " \"FrenchieMummy\"\n",
      "]\n",
      "[\n",
      " \"kitchenaid\",\n",
      " \"baking\",\n",
      " \"kitchenaid\",\n",
      " \"vintage\",\n",
      " \"cookies\"\n",
      "]\n",
      "[\n",
      " \"Enter\",\n",
      " \"To\",\n",
      " \"Win\",\n",
      " \"The\",\n",
      " \"KitchenAid\"\n",
      "]\n"
     ]
    }
   ],
   "source": [
    "status_texts = [ status['text'] \n",
    "                 for status in statuses ]\n",
    "\n",
    "screen_names = [ user_mention['screen_name'] \n",
    "                 for status in statuses\n",
    "                     for user_mention in status['entities']['user_mentions'] ]\n",
    "\n",
    "hashtags = [ hashtag['text'] \n",
    "             for status in statuses\n",
    "                 for hashtag in status['entities']['hashtags'] ]\n",
    "\n",
    "# Compute a collection of all words from all tweets\n",
    "words = [ w \n",
    "          for t in status_texts \n",
    "              for w in t.split() ]\n",
    "\n",
    "# Explore the first 5 items for each...\n",
    "\n",
    "print (json.dumps(status_texts[0:5], indent=1))\n",
    "print (json.dumps(screen_names[0:5], indent=1))\n",
    "print (json.dumps(hashtags[0:5], indent=1))\n",
    "print (json.dumps(words[0:5], indent=1))"
   ]
  },
  {
   "cell_type": "code",
   "execution_count": 12,
   "metadata": {},
   "outputs": [
    {
     "name": "stdout",
     "output_type": "stream",
     "text": [
      "[('#kitchenaid', 196), ('mixer', 112), ('last', 109), ('made', 109), ('monthly', 108), ('highlights', 108), ('post', 108), ('eventually', 108), ('live', 108), (':)', 108)]\n",
      "[('frenchiemummy', 107), ('dealmaxxdeals', 32), ('kitchenaidafric', 24), ('allan_hirsch', 22), ('cdn_turkey', 19), ('taranoland', 18), ('kitchenaidusa', 13), ('ebay', 7), ('realliferealiss', 7), ('mishimoto', 5)]\n",
      "[('kitchenaid', 198), ('win', 57), ('food', 21), ('giveaway', 20), ('kitchen', 11), ('kitchenware', 7), ('kitchener', 7), ('baking', 6), ('chef', 5), ('kitchenaidmixer', 4)]\n"
     ]
    }
   ],
   "source": [
    "from nltk.corpus import stopwords\n",
    "import string\n",
    "\n",
    "#change to lower cases to ignore sensitivity of upper and lower case\n",
    "words = [word.lower() for word in words]\n",
    "screen_names = [word.lower() for word in screen_names]\n",
    "hashtags = [word.lower() for word in hashtags]\n",
    "\n",
    "punctuation = list(string.punctuation)\n",
    "stop = stopwords.words('english') + punctuation + ['rt', 'via']        \n",
    "\n",
    "for word in list(words):\n",
    "    if word in stop:\n",
    "        words.remove(word)\n",
    "\n",
    "#new list of words without RT\n",
    "words = [word for word in words if word not in stop]\n",
    "\n",
    "from collections import Counter\n",
    "\n",
    "for item in [words, screen_names, hashtags]:\n",
    "    c = Counter(item)\n",
    "    print (c.most_common()[:10]) # top 10"
   ]
  },
  {
   "cell_type": "markdown",
   "metadata": {},
   "source": [
    "## Example 7. Creating a basic frequency distribution from the words in tweets"
   ]
  },
  {
   "cell_type": "code",
   "execution_count": 13,
   "metadata": {
    "scrolled": false
   },
   "outputs": [
    {
     "name": "stdout",
     "output_type": "stream",
     "text": [
      "[('#kitchenaid', 196), ('mixer', 112), ('last', 109), ('made', 109), ('monthly', 108), ('highlights', 108), ('post', 108), ('eventually', 108), ('live', 108), (':)', 108)]\n",
      "[('frenchiemummy', 107), ('dealmaxxdeals', 32), ('kitchenaidafric', 24), ('allan_hirsch', 22), ('cdn_turkey', 19), ('taranoland', 18), ('kitchenaidusa', 13), ('ebay', 7), ('realliferealiss', 7), ('mishimoto', 5)]\n",
      "[('kitchenaid', 198), ('win', 57), ('food', 21), ('giveaway', 20), ('kitchen', 11), ('kitchenware', 7), ('kitchener', 7), ('baking', 6), ('chef', 5), ('kitchenaidmixer', 4)]\n"
     ]
    }
   ],
   "source": [
    "from collections import Counter\n",
    "\n",
    "for item in [words, screen_names, hashtags]:\n",
    "    c = Counter(item)\n",
    "    print (c.most_common()[:10]) # top 10"
   ]
  },
  {
   "cell_type": "markdown",
   "metadata": {},
   "source": [
    "## Example 8. Using prettytable to display tuples in a nice tabular format"
   ]
  },
  {
   "cell_type": "code",
   "execution_count": 14,
   "metadata": {},
   "outputs": [
    {
     "name": "stdout",
     "output_type": "stream",
     "text": [
      "+-------------+-------+\n",
      "| Word        | Count |\n",
      "+-------------+-------+\n",
      "| #kitchenaid |   196 |\n",
      "| mixer       |   112 |\n",
      "| last        |   109 |\n",
      "| made        |   109 |\n",
      "| monthly     |   108 |\n",
      "| highlights  |   108 |\n",
      "| post        |   108 |\n",
      "| eventually  |   108 |\n",
      "| live        |   108 |\n",
      "| :)          |   108 |\n",
      "+-------------+-------+\n",
      "+-----------------+-------+\n",
      "| Screen Name     | Count |\n",
      "+-----------------+-------+\n",
      "| frenchiemummy   |   107 |\n",
      "| dealmaxxdeals   |    32 |\n",
      "| kitchenaidafric |    24 |\n",
      "| allan_hirsch    |    22 |\n",
      "| cdn_turkey      |    19 |\n",
      "| taranoland      |    18 |\n",
      "| kitchenaidusa   |    13 |\n",
      "| ebay            |     7 |\n",
      "| realliferealiss |     7 |\n",
      "| mishimoto       |     5 |\n",
      "+-----------------+-------+\n",
      "+-----------------+-------+\n",
      "| Hashtag         | Count |\n",
      "+-----------------+-------+\n",
      "| kitchenaid      |   198 |\n",
      "| win             |    57 |\n",
      "| food            |    21 |\n",
      "| giveaway        |    20 |\n",
      "| kitchen         |    11 |\n",
      "| kitchenware     |     7 |\n",
      "| kitchener       |     7 |\n",
      "| baking          |     6 |\n",
      "| chef            |     5 |\n",
      "| kitchenaidmixer |     4 |\n",
      "+-----------------+-------+\n"
     ]
    }
   ],
   "source": [
    "from prettytable import PrettyTable\n",
    "\n",
    "for label, data in (('Word', words), \n",
    "                    ('Screen Name', screen_names), \n",
    "                    ('Hashtag', hashtags)):\n",
    "    pt = PrettyTable(field_names=[label, 'Count']) \n",
    "    c = Counter(data)\n",
    "    [ pt.add_row(kv) for kv in c.most_common()[:10] ]\n",
    "    pt.align[label], pt.align['Count'] = 'l', 'r' # Set column alignment\n",
    "    print (pt)"
   ]
  },
  {
   "cell_type": "markdown",
   "metadata": {},
   "source": [
    "## Example 9. Calculating lexical diversity for tweets"
   ]
  },
  {
   "cell_type": "code",
   "execution_count": 15,
   "metadata": {},
   "outputs": [
    {
     "name": "stdout",
     "output_type": "stream",
     "text": [
      "0.2598075499629904\n",
      "0.16293929712460065\n",
      "0.264\n",
      "19.213399503722083\n"
     ]
    }
   ],
   "source": [
    "# A function for computing lexical diversity\n",
    "def lexical_diversity(tokens):\n",
    "    return 1.0*len(set(tokens))/len(tokens) \n",
    "\n",
    "# A function for computing the average number of words per tweet\n",
    "def average_words(statuses):\n",
    "    total_words = sum([ len(s.split()) for s in statuses ]) \n",
    "    return 1.0*total_words/len(statuses)\n",
    "\n",
    "print (lexical_diversity(words))\n",
    "print (lexical_diversity(screen_names))\n",
    "print (lexical_diversity(hashtags))\n",
    "print (average_words(status_texts))"
   ]
  },
  {
   "cell_type": "markdown",
   "metadata": {},
   "source": [
    "## Example 12. Plotting frequencies of words"
   ]
  },
  {
   "cell_type": "code",
   "execution_count": 16,
   "metadata": {},
   "outputs": [
    {
     "data": {
      "text/plain": [
       "Text(0.5, 0, 'Word Rank')"
      ]
     },
     "execution_count": 16,
     "metadata": {},
     "output_type": "execute_result"
    },
    {
     "data": {
      "image/png": "[encoded data removed]",
      "text/plain": [
       "<Figure size 432x288 with 1 Axes>"
      ]
     },
     "metadata": {
      "needs_background": "light"
     },
     "output_type": "display_data"
    }
   ],
   "source": [
    "from collections import Counter\n",
    "import matplotlib.pyplot as plt\n",
    "\n",
    "word_counts = sorted(Counter(words).values(), reverse=True)\n",
    "\n",
    "plt.loglog(word_counts)\n",
    "plt.ylabel(\"Freq\")\n",
    "plt.xlabel(\"Word Rank\")"
   ]
  },
  {
   "cell_type": "markdown",
   "metadata": {},
   "source": [
    "## Example 13. Generating histograms of words, screen names, and hashtags"
   ]
  },
  {
   "cell_type": "code",
   "execution_count": 17,
   "metadata": {
    "scrolled": false
   },
   "outputs": [
    {
     "data": {
      "image/png": "[encoded data removed]",
      "text/plain": [
       "<Figure size 432x288 with 1 Axes>"
      ]
     },
     "metadata": {
      "needs_background": "light"
     },
     "output_type": "display_data"
    },
    {
     "data": {
      "image/png": "[encoded data removed]",
      "text/plain": [
       "<Figure size 432x288 with 1 Axes>"
      ]
     },
     "metadata": {
      "needs_background": "light"
     },
     "output_type": "display_data"
    },
    {
     "data": {
      "image/png": "[encoded data removed]",
      "text/plain": [
       "<Figure size 432x288 with 1 Axes>"
      ]
     },
     "metadata": {
      "needs_background": "light"
     },
     "output_type": "display_data"
    },
    {
     "data": {
      "text/plain": [
       "<Figure size 432x288 with 0 Axes>"
      ]
     },
     "metadata": {},
     "output_type": "display_data"
    }
   ],
   "source": [
    "for label, data in (('Words', words), \n",
    "                    ('Screen Names', screen_names), \n",
    "                    ('Hashtags', hashtags)):\n",
    "\n",
    "    # Build a frequency map for each set of data\n",
    "    # and plot the values\n",
    "    c = Counter(data)\n",
    "    plt.hist(c.values())\n",
    "    \n",
    "    # Add a title and y-label ...\n",
    "    plt.title(label)\n",
    "    plt.ylabel(\"Number of items in bin\")\n",
    "    plt.xlabel(\"Bins (number of times an item appeared)\")\n",
    "    \n",
    "    # ... and display as a new figure\n",
    "    plt.figure()"
   ]
  },
  {
   "cell_type": "code",
   "execution_count": null,
   "metadata": {},
   "outputs": [],
   "source": []
  }
 ],
 "metadata": {
  "kernelspec": {
   "display_name": "Python 3",
   "language": "python",
   "name": "python3"
  },
  "language_info": {
   "codemirror_mode": {
    "name": "ipython",
    "version": 3
   },
   "file_extension": ".py",
   "mimetype": "text/x-python",
   "name": "python",
   "nbconvert_exporter": "python",
   "pygments_lexer": "ipython3",
   "version": "3.7.3"
  }
 },
 "nbformat": 4,
 "nbformat_minor": 1
}
